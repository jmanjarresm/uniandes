{
 "cells": [
  {
   "attachments": {},
   "cell_type": "markdown",
   "metadata": {},
   "source": [
    "![image info](https://raw.githubusercontent.com/albahnsen/MIAD_ML_and_NLP/main/images/banner_1.png)"
   ]
  },
  {
   "attachments": {},
   "cell_type": "markdown",
   "metadata": {},
   "source": [
    "# Taller: Análisis de sentimientos y técnicas de NLP\n",
    "\n",
    "En este taller podrán poner en práctica sus conocimientos sobre las diferentes técnicas para el procesamiento de lenguaje natural. El taller está constituido por 5 puntos, en los cuales deberan seguir las intrucciones de cada numeral para su desarrollo."
   ]
  },
  {
   "attachments": {},
   "cell_type": "markdown",
   "metadata": {},
   "source": [
    "## Datos predicción sentimientos de viajeros en Twitter\n",
    "\n",
    "En este taller se usará el conjunto de datos de sentimientos sobre distintas aerolíneas de EE.UU. provenientes de Twitter. Cada observación contiene si el sentimiento de los tweets es positivo, neutral o negativo teniendo en cuenta distintas variables como aerolínea y las razones de los sentimientos negativos (como \"retraso en el vuelo\" o \"servicio grosero\"). El objetivo es predecir el sentimiento asociado a cada tweet. Para más detalles pueden visitar el siguiente enlace: [datos](https://www.kaggle.com/crowdflower/twitter-airline-sentiment)."
   ]
  },
  {
   "cell_type": "code",
   "execution_count": 1,
   "metadata": {},
   "outputs": [],
   "source": [
    "import warnings\n",
    "warnings.filterwarnings('ignore')"
   ]
  },
  {
   "cell_type": "code",
   "execution_count": 2,
   "metadata": {},
   "outputs": [],
   "source": [
    "# Importación de librerías\n",
    "import pandas as pd\n",
    "import numpy as np\n",
    "%matplotlib inline\n",
    "import matplotlib.pyplot as plt"
   ]
  },
  {
   "cell_type": "code",
   "execution_count": 3,
   "metadata": {},
   "outputs": [
    {
     "data": {
      "text/html": [
       "<div>\n",
       "<style scoped>\n",
       "    .dataframe tbody tr th:only-of-type {\n",
       "        vertical-align: middle;\n",
       "    }\n",
       "\n",
       "    .dataframe tbody tr th {\n",
       "        vertical-align: top;\n",
       "    }\n",
       "\n",
       "    .dataframe thead th {\n",
       "        text-align: right;\n",
       "    }\n",
       "</style>\n",
       "<table border=\"1\" class=\"dataframe\">\n",
       "  <thead>\n",
       "    <tr style=\"text-align: right;\">\n",
       "      <th></th>\n",
       "      <th>airline_sentiment</th>\n",
       "      <th>airline_sentiment_confidence</th>\n",
       "      <th>negativereason</th>\n",
       "      <th>negativereason_confidence</th>\n",
       "      <th>airline</th>\n",
       "      <th>airline_sentiment_gold</th>\n",
       "      <th>name</th>\n",
       "      <th>negativereason_gold</th>\n",
       "      <th>retweet_count</th>\n",
       "      <th>text</th>\n",
       "      <th>tweet_coord</th>\n",
       "      <th>tweet_created</th>\n",
       "      <th>tweet_location</th>\n",
       "      <th>user_timezone</th>\n",
       "    </tr>\n",
       "    <tr>\n",
       "      <th>tweet_id</th>\n",
       "      <th></th>\n",
       "      <th></th>\n",
       "      <th></th>\n",
       "      <th></th>\n",
       "      <th></th>\n",
       "      <th></th>\n",
       "      <th></th>\n",
       "      <th></th>\n",
       "      <th></th>\n",
       "      <th></th>\n",
       "      <th></th>\n",
       "      <th></th>\n",
       "      <th></th>\n",
       "      <th></th>\n",
       "    </tr>\n",
       "  </thead>\n",
       "  <tbody>\n",
       "    <tr>\n",
       "      <th>570306133677760513</th>\n",
       "      <td>neutral</td>\n",
       "      <td>1.0000</td>\n",
       "      <td>NaN</td>\n",
       "      <td>NaN</td>\n",
       "      <td>Virgin America</td>\n",
       "      <td>NaN</td>\n",
       "      <td>cairdin</td>\n",
       "      <td>NaN</td>\n",
       "      <td>0</td>\n",
       "      <td>@VirginAmerica What @dhepburn said.</td>\n",
       "      <td>NaN</td>\n",
       "      <td>2015-02-24 11:35:52 -0800</td>\n",
       "      <td>NaN</td>\n",
       "      <td>Eastern Time (US &amp; Canada)</td>\n",
       "    </tr>\n",
       "    <tr>\n",
       "      <th>570301130888122368</th>\n",
       "      <td>positive</td>\n",
       "      <td>0.3486</td>\n",
       "      <td>NaN</td>\n",
       "      <td>0.0000</td>\n",
       "      <td>Virgin America</td>\n",
       "      <td>NaN</td>\n",
       "      <td>jnardino</td>\n",
       "      <td>NaN</td>\n",
       "      <td>0</td>\n",
       "      <td>@VirginAmerica plus you've added commercials t...</td>\n",
       "      <td>NaN</td>\n",
       "      <td>2015-02-24 11:15:59 -0800</td>\n",
       "      <td>NaN</td>\n",
       "      <td>Pacific Time (US &amp; Canada)</td>\n",
       "    </tr>\n",
       "    <tr>\n",
       "      <th>570301083672813571</th>\n",
       "      <td>neutral</td>\n",
       "      <td>0.6837</td>\n",
       "      <td>NaN</td>\n",
       "      <td>NaN</td>\n",
       "      <td>Virgin America</td>\n",
       "      <td>NaN</td>\n",
       "      <td>yvonnalynn</td>\n",
       "      <td>NaN</td>\n",
       "      <td>0</td>\n",
       "      <td>@VirginAmerica I didn't today... Must mean I n...</td>\n",
       "      <td>NaN</td>\n",
       "      <td>2015-02-24 11:15:48 -0800</td>\n",
       "      <td>Lets Play</td>\n",
       "      <td>Central Time (US &amp; Canada)</td>\n",
       "    </tr>\n",
       "    <tr>\n",
       "      <th>570301031407624196</th>\n",
       "      <td>negative</td>\n",
       "      <td>1.0000</td>\n",
       "      <td>Bad Flight</td>\n",
       "      <td>0.7033</td>\n",
       "      <td>Virgin America</td>\n",
       "      <td>NaN</td>\n",
       "      <td>jnardino</td>\n",
       "      <td>NaN</td>\n",
       "      <td>0</td>\n",
       "      <td>@VirginAmerica it's really aggressive to blast...</td>\n",
       "      <td>NaN</td>\n",
       "      <td>2015-02-24 11:15:36 -0800</td>\n",
       "      <td>NaN</td>\n",
       "      <td>Pacific Time (US &amp; Canada)</td>\n",
       "    </tr>\n",
       "    <tr>\n",
       "      <th>570300817074462722</th>\n",
       "      <td>negative</td>\n",
       "      <td>1.0000</td>\n",
       "      <td>Can't Tell</td>\n",
       "      <td>1.0000</td>\n",
       "      <td>Virgin America</td>\n",
       "      <td>NaN</td>\n",
       "      <td>jnardino</td>\n",
       "      <td>NaN</td>\n",
       "      <td>0</td>\n",
       "      <td>@VirginAmerica and it's a really big bad thing...</td>\n",
       "      <td>NaN</td>\n",
       "      <td>2015-02-24 11:14:45 -0800</td>\n",
       "      <td>NaN</td>\n",
       "      <td>Pacific Time (US &amp; Canada)</td>\n",
       "    </tr>\n",
       "  </tbody>\n",
       "</table>\n",
       "</div>"
      ],
      "text/plain": [
       "                   airline_sentiment  airline_sentiment_confidence  \\\n",
       "tweet_id                                                             \n",
       "570306133677760513           neutral                        1.0000   \n",
       "570301130888122368          positive                        0.3486   \n",
       "570301083672813571           neutral                        0.6837   \n",
       "570301031407624196          negative                        1.0000   \n",
       "570300817074462722          negative                        1.0000   \n",
       "\n",
       "                   negativereason  negativereason_confidence         airline  \\\n",
       "tweet_id                                                                       \n",
       "570306133677760513            NaN                        NaN  Virgin America   \n",
       "570301130888122368            NaN                     0.0000  Virgin America   \n",
       "570301083672813571            NaN                        NaN  Virgin America   \n",
       "570301031407624196     Bad Flight                     0.7033  Virgin America   \n",
       "570300817074462722     Can't Tell                     1.0000  Virgin America   \n",
       "\n",
       "                   airline_sentiment_gold        name negativereason_gold  \\\n",
       "tweet_id                                                                    \n",
       "570306133677760513                    NaN     cairdin                 NaN   \n",
       "570301130888122368                    NaN    jnardino                 NaN   \n",
       "570301083672813571                    NaN  yvonnalynn                 NaN   \n",
       "570301031407624196                    NaN    jnardino                 NaN   \n",
       "570300817074462722                    NaN    jnardino                 NaN   \n",
       "\n",
       "                    retweet_count  \\\n",
       "tweet_id                            \n",
       "570306133677760513              0   \n",
       "570301130888122368              0   \n",
       "570301083672813571              0   \n",
       "570301031407624196              0   \n",
       "570300817074462722              0   \n",
       "\n",
       "                                                                 text  \\\n",
       "tweet_id                                                                \n",
       "570306133677760513                @VirginAmerica What @dhepburn said.   \n",
       "570301130888122368  @VirginAmerica plus you've added commercials t...   \n",
       "570301083672813571  @VirginAmerica I didn't today... Must mean I n...   \n",
       "570301031407624196  @VirginAmerica it's really aggressive to blast...   \n",
       "570300817074462722  @VirginAmerica and it's a really big bad thing...   \n",
       "\n",
       "                   tweet_coord              tweet_created tweet_location  \\\n",
       "tweet_id                                                                   \n",
       "570306133677760513         NaN  2015-02-24 11:35:52 -0800            NaN   \n",
       "570301130888122368         NaN  2015-02-24 11:15:59 -0800            NaN   \n",
       "570301083672813571         NaN  2015-02-24 11:15:48 -0800      Lets Play   \n",
       "570301031407624196         NaN  2015-02-24 11:15:36 -0800            NaN   \n",
       "570300817074462722         NaN  2015-02-24 11:14:45 -0800            NaN   \n",
       "\n",
       "                                 user_timezone  \n",
       "tweet_id                                        \n",
       "570306133677760513  Eastern Time (US & Canada)  \n",
       "570301130888122368  Pacific Time (US & Canada)  \n",
       "570301083672813571  Central Time (US & Canada)  \n",
       "570301031407624196  Pacific Time (US & Canada)  \n",
       "570300817074462722  Pacific Time (US & Canada)  "
      ]
     },
     "execution_count": 3,
     "metadata": {},
     "output_type": "execute_result"
    }
   ],
   "source": [
    "# Lectura de la información de archivo .zip\n",
    "tweets = pd.read_csv('https://raw.githubusercontent.com/albahnsen/MIAD_ML_and_NLP/main/datasets/Tweets.zip', index_col=0)\n",
    "\n",
    "# Visualización dataset\n",
    "tweets.head()"
   ]
  },
  {
   "cell_type": "code",
   "execution_count": 4,
   "metadata": {},
   "outputs": [
    {
     "data": {
      "text/plain": [
       "(14640, 14)"
      ]
     },
     "execution_count": 4,
     "metadata": {},
     "output_type": "execute_result"
    }
   ],
   "source": [
    "# Impresión tamaño del cojunto de datos\n",
    "tweets.shape"
   ]
  },
  {
   "attachments": {},
   "cell_type": "markdown",
   "metadata": {},
   "source": [
    "### Análisis descriptivo"
   ]
  },
  {
   "cell_type": "code",
   "execution_count": 5,
   "metadata": {},
   "outputs": [
    {
     "data": {
      "text/plain": [
       "negative    9178\n",
       "neutral     3099\n",
       "positive    2363\n",
       "Name: airline_sentiment, dtype: int64"
      ]
     },
     "execution_count": 5,
     "metadata": {},
     "output_type": "execute_result"
    }
   ],
   "source": [
    "# Cuenta de tweets por cada sentimiento\n",
    "tweets['airline_sentiment'].value_counts()"
   ]
  },
  {
   "cell_type": "code",
   "execution_count": 6,
   "metadata": {},
   "outputs": [
    {
     "data": {
      "text/plain": [
       "United            3822\n",
       "US Airways        2913\n",
       "American          2759\n",
       "Southwest         2420\n",
       "Delta             2222\n",
       "Virgin America     504\n",
       "Name: airline, dtype: int64"
      ]
     },
     "execution_count": 6,
     "metadata": {},
     "output_type": "execute_result"
    }
   ],
   "source": [
    "# Cuenta de tweets por cada aerolínea\n",
    "tweets['airline'].value_counts()"
   ]
  },
  {
   "cell_type": "code",
   "execution_count": 7,
   "metadata": {},
   "outputs": [
    {
     "data": {
      "text/plain": [
       "<AxesSubplot:title={'center':'Sentiminetos por aerolínea'}, xlabel='airline'>"
      ]
     },
     "execution_count": 7,
     "metadata": {},
     "output_type": "execute_result"
    },
    {
     "data": {
      "image/png": "[encoded data removed]",
      "text/plain": [
       "<Figure size 720x432 with 1 Axes>"
      ]
     },
     "metadata": {
      "needs_background": "light"
     },
     "output_type": "display_data"
    }
   ],
   "source": [
    "# Plot con cuenta de tweets por cada aerolínea y sentimiento\n",
    "pd.crosstab(index = tweets[\"airline\"],columns = tweets[\"airline_sentiment\"]).plot(kind='bar',figsize=(10, 6),alpha=0.5,rot=0,stacked=True,title=\"Sentiminetos por aerolínea\")"
   ]
  },
  {
   "attachments": {},
   "cell_type": "markdown",
   "metadata": {},
   "source": [
    "### Liberias y Variables de interés y predicción"
   ]
  },
  {
   "cell_type": "code",
   "execution_count": 8,
   "metadata": {},
   "outputs": [],
   "source": [
    "from sklearn.model_selection import train_test_split, cross_val_score\n",
    "from sklearn.feature_extraction.text import CountVectorizer, TfidfVectorizer\n",
    "from sklearn.ensemble import RandomForestClassifier\n",
    "from nltk.stem.snowball import SnowballStemmer\n",
    "from nltk.stem import WordNetLemmatizer\n",
    "from sklearn.metrics import accuracy_score"
   ]
  },
  {
   "cell_type": "code",
   "execution_count": 9,
   "metadata": {},
   "outputs": [],
   "source": [
    "# Separación de variables predictoras (X) y de variable de interés (y)\n",
    "X = tweets['text']\n",
    "# y = tweets['airline_sentiment'].map({'negative':-1,'neutral':0,'positive':1})\n",
    "y = tweets['airline_sentiment'].map({'negative':0,'neutral':1,'positive':2})\n"
   ]
  },
  {
   "cell_type": "code",
   "execution_count": 10,
   "metadata": {},
   "outputs": [],
   "source": [
    "# Separación de datos en set de entrenamiento y test\n",
    "X_train, X_test, y_train, y_test = train_test_split(X, y, test_size=0.33, random_state=42)"
   ]
  },
  {
   "attachments": {},
   "cell_type": "markdown",
   "metadata": {},
   "source": [
    "### Punto 1 - Uso de CountVectorizer\n",
    "\n",
    "En la celda 1 creen un modelo de random forest con la libreria sklearn que prediga el sentimiento de los tweets usando los set de entrenamiento y test definidos anteriormente. Usen la función **CountVectorizer** y presenten el desempeño del modelo con la métrica del acurracy.\n",
    "\n",
    "Recuerden que el preprocesamiento que se haga sobre los datos de entrenamiento  (*.fit_transform()*) deben ser aplicado al set de test (*.transform()*)."
   ]
  },
  {
   "cell_type": "code",
   "execution_count": 71,
   "metadata": {},
   "outputs": [
    {
     "name": "stdout",
     "output_type": "stream",
     "text": [
      "Fitting 5 folds for each of 4 candidates, totalling 20 fits\n"
     ]
    },
    {
     "ename": "IndexError",
     "evalue": "index 4 is out of bounds for axis 0 with size 4",
     "output_type": "error",
     "traceback": [
      "\u001b[1;31m---------------------------------------------------------------------------\u001b[0m",
      "\u001b[1;31mIndexError\u001b[0m                                Traceback (most recent call last)",
      "\u001b[1;32m~\\AppData\\Local\\Temp\\ipykernel_33296\\3904965348.py\u001b[0m in \u001b[0;36m<cell line: 20>\u001b[1;34m()\u001b[0m\n\u001b[0;32m     18\u001b[0m \u001b[0mbuscar\u001b[0m \u001b[1;33m=\u001b[0m \u001b[0mrf_GCV\u001b[0m\u001b[1;33m.\u001b[0m\u001b[0mbest_params_\u001b[0m\u001b[1;33m\u001b[0m\u001b[1;33m\u001b[0m\u001b[0m\n\u001b[0;32m     19\u001b[0m \u001b[0mindice\u001b[0m \u001b[1;33m=\u001b[0m \u001b[0mrf_GCV\u001b[0m\u001b[1;33m.\u001b[0m\u001b[0mcv_results_\u001b[0m\u001b[1;33m[\u001b[0m\u001b[1;34m'params'\u001b[0m\u001b[1;33m]\u001b[0m\u001b[1;33m.\u001b[0m\u001b[0mindex\u001b[0m\u001b[1;33m(\u001b[0m\u001b[0mbuscar\u001b[0m\u001b[1;33m)\u001b[0m\u001b[1;33m+\u001b[0m\u001b[1;36m1\u001b[0m\u001b[1;33m\u001b[0m\u001b[1;33m\u001b[0m\u001b[0m\n\u001b[1;32m---> 20\u001b[1;33m \u001b[0mvalidacion_cruzada\u001b[0m\u001b[1;33m[\u001b[0m\u001b[1;34m'CountVectorizer'\u001b[0m\u001b[1;33m]\u001b[0m \u001b[1;33m=\u001b[0m \u001b[1;33m[\u001b[0m\u001b[0mrf_GCV\u001b[0m\u001b[1;33m.\u001b[0m\u001b[0mcv_results_\u001b[0m\u001b[1;33m[\u001b[0m\u001b[1;34mf'split{i}_test_score'\u001b[0m\u001b[1;33m]\u001b[0m\u001b[1;33m[\u001b[0m\u001b[0mindice\u001b[0m\u001b[1;33m]\u001b[0m \u001b[1;32mfor\u001b[0m \u001b[0mi\u001b[0m \u001b[1;32min\u001b[0m \u001b[0mrange\u001b[0m\u001b[1;33m(\u001b[0m\u001b[1;36m0\u001b[0m\u001b[1;33m,\u001b[0m\u001b[1;36m5\u001b[0m\u001b[1;33m)\u001b[0m\u001b[1;33m]\u001b[0m\u001b[1;33m\u001b[0m\u001b[1;33m\u001b[0m\u001b[0m\n\u001b[0m\u001b[0;32m     21\u001b[0m \u001b[1;33m\u001b[0m\u001b[0m\n\u001b[0;32m     22\u001b[0m \u001b[0maccuracy_score\u001b[0m\u001b[1;33m(\u001b[0m\u001b[0my_test\u001b[0m\u001b[1;33m,\u001b[0m \u001b[0my_pred\u001b[0m\u001b[1;33m)\u001b[0m\u001b[1;33m\u001b[0m\u001b[1;33m\u001b[0m\u001b[0m\n",
      "\u001b[1;32m~\\AppData\\Local\\Temp\\ipykernel_33296\\3904965348.py\u001b[0m in \u001b[0;36m<listcomp>\u001b[1;34m(.0)\u001b[0m\n\u001b[0;32m     18\u001b[0m \u001b[0mbuscar\u001b[0m \u001b[1;33m=\u001b[0m \u001b[0mrf_GCV\u001b[0m\u001b[1;33m.\u001b[0m\u001b[0mbest_params_\u001b[0m\u001b[1;33m\u001b[0m\u001b[1;33m\u001b[0m\u001b[0m\n\u001b[0;32m     19\u001b[0m \u001b[0mindice\u001b[0m \u001b[1;33m=\u001b[0m \u001b[0mrf_GCV\u001b[0m\u001b[1;33m.\u001b[0m\u001b[0mcv_results_\u001b[0m\u001b[1;33m[\u001b[0m\u001b[1;34m'params'\u001b[0m\u001b[1;33m]\u001b[0m\u001b[1;33m.\u001b[0m\u001b[0mindex\u001b[0m\u001b[1;33m(\u001b[0m\u001b[0mbuscar\u001b[0m\u001b[1;33m)\u001b[0m\u001b[1;33m+\u001b[0m\u001b[1;36m1\u001b[0m\u001b[1;33m\u001b[0m\u001b[1;33m\u001b[0m\u001b[0m\n\u001b[1;32m---> 20\u001b[1;33m \u001b[0mvalidacion_cruzada\u001b[0m\u001b[1;33m[\u001b[0m\u001b[1;34m'CountVectorizer'\u001b[0m\u001b[1;33m]\u001b[0m \u001b[1;33m=\u001b[0m \u001b[1;33m[\u001b[0m\u001b[0mrf_GCV\u001b[0m\u001b[1;33m.\u001b[0m\u001b[0mcv_results_\u001b[0m\u001b[1;33m[\u001b[0m\u001b[1;34mf'split{i}_test_score'\u001b[0m\u001b[1;33m]\u001b[0m\u001b[1;33m[\u001b[0m\u001b[0mindice\u001b[0m\u001b[1;33m]\u001b[0m \u001b[1;32mfor\u001b[0m \u001b[0mi\u001b[0m \u001b[1;32min\u001b[0m \u001b[0mrange\u001b[0m\u001b[1;33m(\u001b[0m\u001b[1;36m0\u001b[0m\u001b[1;33m,\u001b[0m\u001b[1;36m5\u001b[0m\u001b[1;33m)\u001b[0m\u001b[1;33m]\u001b[0m\u001b[1;33m\u001b[0m\u001b[1;33m\u001b[0m\u001b[0m\n\u001b[0m\u001b[0;32m     21\u001b[0m \u001b[1;33m\u001b[0m\u001b[0m\n\u001b[0;32m     22\u001b[0m \u001b[0maccuracy_score\u001b[0m\u001b[1;33m(\u001b[0m\u001b[0my_test\u001b[0m\u001b[1;33m,\u001b[0m \u001b[0my_pred\u001b[0m\u001b[1;33m)\u001b[0m\u001b[1;33m\u001b[0m\u001b[1;33m\u001b[0m\u001b[0m\n",
      "\u001b[1;31mIndexError\u001b[0m: index 4 is out of bounds for axis 0 with size 4"
     ]
    }
   ],
   "source": [
    "dict_score = {}\n",
    "validacion_cruzada = {}\n",
    "\n",
    "from sklearn.model_selection import GridSearchCV\n",
    "rf = RandomForestClassifier(n_jobs=-1) #class_weight{“balanced”, “balanced_subsample”} ,class_weight='balanced' No hubo mejoras significativas al balancear \n",
    "cv = CountVectorizer( lowercase = True, ngram_range=(3,3)) #, max_features = 100000\n",
    "\n",
    "X_train_cv = cv.fit_transform(X_train)\n",
    "X_test_cv = cv.transform(X_test)\n",
    "\n",
    "params = [{'min_samples_leaf': [1,2], # incialmente se hizo un entrenamiento con [2, 3] y 2 es el mejor\n",
    "         'n_estimators': [100,1000]}] # inicialmente se hizo un entrenamiento con [500, 1000] y 1000 es el mejor, si se dejaran los 4 parámetros, serían 20 modelos a evaluar con cv = 5\n",
    "rf_GCV = GridSearchCV(rf,param_grid=params,scoring='accuracy',cv=5, n_jobs = -1, verbose = 3)\n",
    "rf_GCV.fit(X_train_cv, y_train)\n",
    "y_pred = rf_GCV.predict(X_test_cv)\n",
    "dict_score['CountVectorizer'] = accuracy_score(y_test, y_pred)\n",
    "\n",
    "# En el próximo command se guardan los resultados, ya que se debìa ajustar algo en el índice.\n"
   ]
  },
  {
   "cell_type": "code",
   "execution_count": 77,
   "metadata": {},
   "outputs": [
    {
     "data": {
      "text/plain": [
       "0.6899834437086093"
      ]
     },
     "execution_count": 77,
     "metadata": {},
     "output_type": "execute_result"
    }
   ],
   "source": [
    "buscar = rf_GCV.best_params_\n",
    "buscar\n",
    "indice = rf_GCV.cv_results_['params'].index(buscar)\n",
    "indice\n",
    "validacion_cruzada['CountVectorizer'] = [rf_GCV.cv_results_[f'split{i}_test_score'][indice] for i in range(0,5)]\n",
    "accuracy_score(y_test, y_pred)\n",
    "# ya entrenado el modelo solamente era guardar los resultados en los diccioanarios que sirven para comparar los modelos"
   ]
  },
  {
   "cell_type": "code",
   "execution_count": 12,
   "metadata": {},
   "outputs": [
    {
     "data": {
      "text/plain": [
       "array([[2972,   59,   54],\n",
       "       [ 818,  143,   23],\n",
       "       [ 533,   13,  217]], dtype=int64)"
      ]
     },
     "metadata": {},
     "output_type": "display_data"
    },
    {
     "data": {
      "text/plain": [
       "0    3085\n",
       "1     984\n",
       "2     763\n",
       "Name: airline_sentiment, dtype: int64"
      ]
     },
     "metadata": {},
     "output_type": "display_data"
    },
    {
     "data": {
      "image/png": "[encoded data removed]",
      "text/plain": [
       "<Figure size 432x288 with 2 Axes>"
      ]
     },
     "metadata": {
      "needs_background": "light"
     },
     "output_type": "display_data"
    }
   ],
   "source": [
    "# Create confusion matrix\n",
    "from sklearn.metrics import confusion_matrix, accuracy_score\n",
    "import seaborn as sns\n",
    "import matplotlib.pyplot as plt\n",
    "labels = ['negative','neutral','positive']\n",
    "cm = confusion_matrix(y_test, y_pred)\n",
    "ax= plt.subplot()\n",
    "sns.heatmap(cm, annot=True, fmt='g', ax=ax);  #annot=True to annotate cells, ftm='g' to disable scientific notation\n",
    "# labels, title and ticks\n",
    "ax.set_xlabel('Predicted labels');ax.set_ylabel('True labels'); \n",
    "ax.set_title('Confusion Matrix'); \n",
    "ax.xaxis.set_ticklabels(labels); ax.yaxis.set_ticklabels(labels);\n",
    "display(confusion_matrix(y_test, y_pred))\n",
    "display(pd.DataFrame(y_test).reset_index().airline_sentiment.value_counts())\n"
   ]
  },
  {
   "attachments": {},
   "cell_type": "markdown",
   "metadata": {},
   "source": [
    "Al aplicar el método CountVectorizer() se obtiene una matriz de conteos de tokens, resultado de la tokenización que se le haya especificado sobre el conjunto de datos.\n",
    "En este caso se realizó con trigramas sobre los datos para clasificar las palabras-terminos más importantes en TF-IDF.\n",
    "Al correr un modelo de RandomForest sobre esta data, se halló que tiene una precisión de 68.97% en promedio, que lo cataloga como un modelo aceptable.\n",
    "\n",
    "\n",
    "Al revisar la matriz de confusión, se observa que el modelo está clasificando de una mejor forma los sentimientos negativos, dado que lo que se pesa es el \"accuracy\". La peor clasificación es sobre las calificaciones neutrales.\n",
    "Esto es debido a que la tokenización realizada no tiene en cuenta ningún tipo de preprocesamiento adicional, como la remoción de stop-words o la lematización."
   ]
  },
  {
   "attachments": {},
   "cell_type": "markdown",
   "metadata": {},
   "source": [
    "### Punto 2 - Eliminación de Stopwords\n",
    "\n",
    "En la celda 2 creen un modelo de random forest con la libreria sklearn que prediga el sentimiento de los tweets usando los set de entrenamiento y test definidos anteriormente. Usen la función CountVectorizer, **eliminen stopwords** y presenten el desempeño del modelo con la métrica del acurracy.\n",
    "\n",
    "Recuerden que el preprocesamiento que se haga sobre los datos de entrenamiento  (*.fit_transform()*) deben ser aplicado al set de test (*.transform()*)."
   ]
  },
  {
   "cell_type": "code",
   "execution_count": 20,
   "metadata": {},
   "outputs": [
    {
     "data": {
      "image/png": "[encoded data removed]",
      "text/plain": [
       "<Figure size 432x288 with 1 Axes>"
      ]
     },
     "metadata": {
      "needs_background": "light"
     },
     "output_type": "display_data"
    }
   ],
   "source": [
    "import nltk\n",
    "import re\n",
    "\n",
    "palabras = \" \".join(tweets['text']).split()\n",
    "tokens = [i.lower() for i in palabras]\n",
    "tokens\n",
    "freq_dist = nltk.FreqDist(tokens)\n",
    "freq_dist.plot(50, cumulative=False)\n",
    "\n",
    "# emoticones = [\n",
    "#     ':)', ':D', ':(', ':/', ':\\\\', ':p', ':P', ':o', ':O', ';)', ';(', ':-)', ':-D', ':-(', ':-/', ':-p', ':-P', ':-o', ':-O', ';-)', ';-(',\n",
    "#     ':-]', ':-[', ':-|', ':-$', ':-*', ':\\'(', ':\\'-(', ':-@', ':^)', '|-O', ':3', '8-)', '8-|', '8-(', '8-D', 'B-)', 'B|', 'B-D', 'B-)','<3'\n",
    "# ]\n",
    "# emoticones_regex = [re.escape(emoticon) for emoticon in emoticones]\n",
    "# token_pattern = re.compile(r'\\b\\w+\\b|\\#\\w+|\\@\\w+|{}'.format(\"|\".join(emoticones_regex)))\n",
    "\n",
    "palabras_frecuentes = pd.DataFrame(freq_dist.keys(),freq_dist.values()).sort_index(ascending=False)\n",
    "import nltk\n",
    "from nltk.corpus import stopwords\n",
    "stop_words_nltk = stopwords.words('english')\n",
    "# hashtag = palabras_frecuentes[palabras_frecuentes[0].str.contains(\"#\")]\n",
    "# for i in hashtag:\n",
    "#     stop_words_nltk.append(i)\n",
    "\n"
   ]
  },
  {
   "cell_type": "code",
   "execution_count": 21,
   "metadata": {},
   "outputs": [
    {
     "name": "stdout",
     "output_type": "stream",
     "text": [
      "Fitting 5 folds for each of 4 candidates, totalling 20 fits\n"
     ]
    },
    {
     "data": {
      "text/plain": [
       "0.6399006622516556"
      ]
     },
     "execution_count": 21,
     "metadata": {},
     "output_type": "execute_result"
    }
   ],
   "source": [
    "# Celda 2\n",
    "rf = RandomForestClassifier(n_jobs=-1) #class_weight{“balanced”, “balanced_subsample”} ,class_weight='balanced'\n",
    "cv = CountVectorizer( lowercase = True, ngram_range=(3,3),  stop_words=stop_words_nltk) # stop_words=\"english\" #stop_words=stop_words_nltk, token_pattern = token_pattern\n",
    "\n",
    "X_train_cv = cv.fit_transform(X_train)\n",
    "X_test_cv = cv.transform(X_test)\n",
    "\n",
    "params = [{'min_samples_leaf': [1,2], # se ejecuta con los mejores parámetros de la versión inicial\n",
    "         'n_estimators': [100,1000]}] # se ejecuta con los mejores parámetros de la versión inicial\n",
    "rf_GCV = GridSearchCV(rf,param_grid=params,scoring='accuracy',cv=5, n_jobs = -1, verbose = 3)\n",
    "rf_GCV.fit(X_train_cv, y_train)\n",
    "y_pred = rf_GCV.predict(X_test_cv)\n",
    "dict_score['CountVectorizer+StopWords'] = accuracy_score(y_test, y_pred)\n",
    "buscar = rf_GCV.best_params_\n",
    "indice = rf_GCV.cv_results_['params'].index(buscar)\n",
    "validacion_cruzada['CountVectorizer+StopWords'] = [rf_GCV.cv_results_[f'split{i}_test_score'][indice] for i in range(0,5)]\n",
    "validacion_cruzada\n",
    "\n",
    "accuracy_score(y_test, y_pred)\n",
    "\n",
    "#con emoticones y separando # y @ 0.6937086092715232\n",
    "# Quitando hashtags 0.6396937086092715\n"
   ]
  },
  {
   "cell_type": "code",
   "execution_count": 15,
   "metadata": {},
   "outputs": [
    {
     "data": {
      "image/png": "[encoded data removed]",
      "text/plain": [
       "<Figure size 1600x480 with 1 Axes>"
      ]
     },
     "metadata": {
      "needs_background": "light"
     },
     "output_type": "display_data"
    }
   ],
   "source": [
    "from matplotlib.pyplot import figure\n",
    "\n",
    "figure(figsize=(20, 6), dpi=80)\n",
    "coincidencias = set(stop_words_nltk) & set(palabras_frecuentes[0])\n",
    "\n",
    "freq_dist_coincidencia = {i:j  for i,j in freq_dist.items() if i in coincidencias }\n",
    "freq_dist_coincidencia = dict(sorted(freq_dist_coincidencia.items()))\n",
    "\n",
    "ordenado = pd.DataFrame(freq_dist_coincidencia.keys(),freq_dist_coincidencia.values()).sort_index(ascending=False).reset_index().rename(columns={0:\"palabra\", 'index':\"valor\"})\n",
    "\n",
    "plt.bar(data=ordenado,x='palabra',height='valor')\n",
    "plt.xticks(rotation=90);"
   ]
  },
  {
   "attachments": {},
   "cell_type": "markdown",
   "metadata": {},
   "source": [
    "En este punto se corrió el modelo Random Forest sobre la data, pero, además de aplicar CountVectorizer por trigramas, se le aplicó la remoción de stop-words. Estas son palabras comunes en el idioma, que no aportan ningún tipo de distinción a los tweets negativos o positivos, pues están en las dos categorías. En este caso se realizó un proceso adicional con el objetivo de mejorar el desempeño: \n",
    "La creación de una expresión regular para la inclusión de emoticiones y diferenciación de los hasthag con cuentas de usuario, en promedio mejoró un 5% el modelo; también, se hicieron ejecicios incluyendo como stopwords los hashtag, ya que pueden generar ruidos al modelo (si un hashtag ya está motivado para una calificación negativa, este va a tener un gran peso en el modelo, pero no es una palabra que realmente se use).\n",
    "\n",
    "Se concluye que hay palabras que están en los stopwords y que ayudan al contexto del mensaje del Tweet. En el gráfico anterior se muestra la forma en que intervienen las stopwords, se puede observar que todas tienen una frecuncia muy alta sobre los tweets. De este listado de palabras, se observa que la palabra **not** que es el auxiliar para construir palabras negativas. Sin tener certeza de lo que está sucediendo, se debería analizar las stopwords que están influyendo para que baje el rendimiendo del modelo. Con todas estas trabas, se tiene un modelo con un 'accuracy' de 0.6399."
   ]
  },
  {
   "attachments": {},
   "cell_type": "markdown",
   "metadata": {},
   "source": [
    "### Punto 3 - Lematización con verbos\n",
    "\n",
    "En la celda 3 creen un modelo de random forest con la libreria sklearn que prediga el sentimiento de los tweets usando los set de entrenamiento y test definidos anteriormente. Usen la función CountVectorizer, **lematizen el texto con verbos** y presenten el desempeño del modelo con la métrica del acurracy.\n",
    "\n",
    "Recuerden que el preprocesamiento que se haga sobre los datos de entrenamiento  (*.fit_transform()*) deben ser aplicado al set de test (*.transform()*)."
   ]
  },
  {
   "cell_type": "code",
   "execution_count": 16,
   "metadata": {},
   "outputs": [
    {
     "name": "stderr",
     "output_type": "stream",
     "text": [
      "[nltk_data] Downloading package wordnet to\n",
      "[nltk_data]     C:\\Users\\dfgom\\AppData\\Roaming\\nltk_data...\n",
      "[nltk_data]   Package wordnet is already up-to-date!\n"
     ]
    },
    {
     "data": {
      "text/plain": [
       "True"
      ]
     },
     "execution_count": 16,
     "metadata": {},
     "output_type": "execute_result"
    }
   ],
   "source": [
    "#nltk.download()\n",
    "nltk.download('wordnet')"
   ]
  },
  {
   "cell_type": "code",
   "execution_count": 79,
   "metadata": {},
   "outputs": [
    {
     "name": "stdout",
     "output_type": "stream",
     "text": [
      "Fitting 5 folds for each of 4 candidates, totalling 20 fits\n"
     ]
    },
    {
     "data": {
      "text/plain": [
       "0.7640728476821192"
      ]
     },
     "execution_count": 79,
     "metadata": {},
     "output_type": "execute_result"
    }
   ],
   "source": [
    "# Celda 3\n",
    "\n",
    "rf = RandomForestClassifier(n_jobs=-1) #class_weight{“balanced”, “balanced_subsample”} ,class_weight='balanced'\n",
    "\n",
    "wordnet_lemmatizer = WordNetLemmatizer()\n",
    "\n",
    "\n",
    "def split_into_lemmas(text):\n",
    "    text = text.lower()\n",
    "    words = text.split()\n",
    "    return [wordnet_lemmatizer.lemmatize(word, pos=\"v\") for word in words]\n",
    "cv = CountVectorizer( lowercase = True, ngram_range=(3,3), analyzer=split_into_lemmas)\n",
    "\n",
    "X_train_cv = cv.fit_transform(X_train)\n",
    "X_test_cv = cv.transform(X_test)\n",
    "\n",
    "params = [{'min_samples_leaf': [1,2], # se ejecuta con los mejores parámetros de la versión inicial\n",
    "         'n_estimators': [100,1000]}] # se ejecuta con los mejores parámetros de la versión inicial\n",
    "rf_GCV = GridSearchCV(rf,param_grid=params,scoring='accuracy',cv=5, n_jobs = -1, verbose = 3)\n",
    "rf_GCV.fit(X_train_cv, y_train)\n",
    "y_pred = rf_GCV.predict(X_test_cv)\n",
    "dict_score['CountVectorizer+Lematización'] = accuracy_score(y_test, y_pred)\n",
    "\n",
    "buscar = rf_GCV.best_params_\n",
    "buscar\n",
    "indice = rf_GCV.cv_results_['params'].index(buscar)\n",
    "indice\n",
    "validacion_cruzada['CountVectorizer+Lematización'] = [rf_GCV.cv_results_[f'split{i}_test_score'][indice] for i in range(0,5)]\n",
    "accuracy_score(y_test, y_pred)\n"
   ]
  },
  {
   "attachments": {},
   "cell_type": "markdown",
   "metadata": {},
   "source": [
    "Se puede ver que al realizar el proceso de lematización del dataset, además de aplicar CountVectorizer por trigramas, se obtuvo un desempeño mucho mejor que en los otros dos puntos del taller. Este proceso convierte las palabras a su versión más básica de diccionario, para luego reotrnar un dataset con palabras más homogéneas, que pueden ser clasificadas más fácilmente según la variable objetivo. En este taller se usó el método con verbos. Por ejemplo, los tweets con tokens negativos como \"delayed\", \"delays\" o \"delaying\" se convierten en \"delay\", de modo que la palabra \"delay\" se convierte en un token más significativo dentro del dataset, al incrementarse su frecuencia. Dada su asociación con sentimientos negativos en la variable objetivo, se vuelve un buen predictor de un tweet negativo. El desempeño usando esta técnica es el mejor de los modelos corridos hasta el momento, con un 76.4% de precisión en promedio. "
   ]
  },
  {
   "attachments": {},
   "cell_type": "markdown",
   "metadata": {},
   "source": [
    "### Punto 4 - Multiples técnicas\n",
    "\n",
    "En la celda 4 creen un modelo de random forest con la libreria sklearn que prediga el sentimiento de los tweets usando los set de entrenamiento y test definidos anteriormente. Usen la función **CountVectorizer, eliminen stopwords, lematizen el texto con verbos** y presenten el desempeño del modelo con la métrica del acurracy.\n",
    "\n",
    "Recuerden que el preprocesamiento que se haga sobre los datos de entrenamiento  (*.fit_transform()*) deben ser aplicado al set de test (*.transform()*)."
   ]
  },
  {
   "cell_type": "code",
   "execution_count": 92,
   "metadata": {},
   "outputs": [
    {
     "name": "stdout",
     "output_type": "stream",
     "text": [
      "Fitting 5 folds for each of 4 candidates, totalling 20 fits\n"
     ]
    },
    {
     "data": {
      "text/plain": [
       "0.7622102649006622"
      ]
     },
     "execution_count": 92,
     "metadata": {},
     "output_type": "execute_result"
    }
   ],
   "source": [
    "# Celda 4\n",
    "import re\n",
    "from sklearn.model_selection import GridSearchCV\n",
    "emoticones = [\n",
    "    ':)', ':D', ':(', ':/', ':\\\\', ':p', ':P', ':o', ':O', ';)', ';(', ':-)', ':-D', ':-(', ':-/', ':-p', ':-P', ':-o', ':-O', ';-)', ';-(',\n",
    "    ':-]', ':-[', ':-|', ':-$', ':-*', ':\\'(', ':\\'-(', ':-@', ':^)', '|-O', ':3', '8-)', '8-|', '8-(', '8-D', 'B-)', 'B|', 'B-D', 'B-)','<3'\n",
    "]\n",
    "emoticones_regex = [re.escape(emoticon) for emoticon in emoticones]\n",
    "token_pattern = re.compile(r'\\b\\w+\\b|\\#\\w+|\\@\\w+|{}'.format(\"|\".join(emoticones_regex)))\n",
    "\n",
    "rf = RandomForestClassifier(n_jobs=-1)\n",
    "\n",
    "wordnet_lemmatizer = WordNetLemmatizer()\n",
    "\n",
    "def split_into_lemmas(text):\n",
    "    text = text.lower()\n",
    "    words = text.split()\n",
    "    return [wordnet_lemmatizer.lemmatize(word, pos=\"v\") for word in words]\n",
    "\n",
    "cv = CountVectorizer( lowercase = True, ngram_range=(3,3),analyzer=split_into_lemmas, stop_words=\"english\",token_pattern = token_pattern) #, , \n",
    "\n",
    "X_train_cv = cv.fit_transform(X_train)\n",
    "X_test_cv = cv.transform(X_test)\n",
    "\n",
    "params = [{'min_samples_leaf': [1,2], # se ejecuta con los mejores parámetros de la versión inicial\n",
    "         'n_estimators': [100,1000]}] # se ejecuta con los mejores parámetros de la versión inicial\n",
    "rf_GCV = GridSearchCV(rf,param_grid=params,scoring='accuracy',cv=5, n_jobs = -1, verbose = 3)\n",
    "rf_GCV.fit(X_train_cv, y_train)\n",
    "y_pred = rf_GCV.predict(X_test_cv)\n",
    "\n",
    "\n",
    "dict_score['CountVectorizer+Lematización+StopWords+Emoticons'] = accuracy_score(y_test, y_pred)\n",
    "buscar = rf_GCV.best_params_\n",
    "buscar\n",
    "indice = rf_GCV.cv_results_['params'].index(buscar)\n",
    "indice\n",
    "validacion_cruzada['CountVectorizer+Lematización+StopWords+Emoticons'] = [rf_GCV.cv_results_[f'split{i}_test_score'][indice] for i in range(0,5)]\n",
    "accuracy_score(y_test, y_pred)\n",
    "\n",
    "# 0.7640728476821192 y 0.7588990066225165\n",
    "\n",
    "# 1 y 1000: 0.7638658940397351"
   ]
  },
  {
   "attachments": {},
   "cell_type": "markdown",
   "metadata": {},
   "source": [
    "En este punto se combinaron las técnicas usadas hasta el momento. Se realizó:\n",
    "* Aplicación CountVectorizer por trigramas\n",
    "* Eliminación de stop-words y creando una expresión regular para que identifique emoticonos\n",
    "* Lematización del texto con verbos\n",
    "\n",
    "Se puede ver que el resultado no tuvo una mejora considerable, frente al del punto anterior (76.22% vs. 76.4%). Tal vez sea necesario probar con otros hiperparámetros en la búsqueda, ya que cambiando los datos no funcionan los mismos hiperparámetros. Así mismo, esto puede ser debido a que la base de datos usada es de tweets, de modo que la gente intenta usar menos palabras comunes, pues Twitter tiene un límite de caracteres de 240 por trino. Este límite le impide a la gente explayarse y usar frases largas o incluso completas."
   ]
  },
  {
   "attachments": {},
   "cell_type": "markdown",
   "metadata": {},
   "source": [
    "### Punto 5 - Comparación y análisis de resultados\n",
    "\n",
    "En la celda 5 comparen los resultados obtenidos de los diferentes modelos (random forest) y comenten las ventajas del mejor modelo y las desventajas del modelo con el menor desempeño."
   ]
  },
  {
   "cell_type": "code",
   "execution_count": 94,
   "metadata": {},
   "outputs": [
    {
     "data": {
      "image/png": "[encoded data removed]",
      "text/plain": [
       "<Figure size 1440x576 with 1 Axes>"
      ]
     },
     "metadata": {},
     "output_type": "display_data"
    }
   ],
   "source": [
    "import seaborn as sns\n",
    "#pd.DataFrame.from_dict(dict_score_arr)\n",
    "# figure(figsize=(20, 6), dpi=80)\n",
    "sns.set(rc={'figure.figsize':(20,8)})\n",
    "sns.boxplot(data = pd.melt(pd.DataFrame.from_dict(validacion_cruzada)), x=\"variable\", y=\"value\")\n",
    "\n",
    "plt.xlabel('metodo')\n",
    "plt.ylabel('accuracy');\n",
    "# plt.xticks(rotation=45);"
   ]
  },
  {
   "cell_type": "code",
   "execution_count": 95,
   "metadata": {},
   "outputs": [
    {
     "data": {
      "text/html": [
       "<div>\n",
       "<style scoped>\n",
       "    .dataframe tbody tr th:only-of-type {\n",
       "        vertical-align: middle;\n",
       "    }\n",
       "\n",
       "    .dataframe tbody tr th {\n",
       "        vertical-align: top;\n",
       "    }\n",
       "\n",
       "    .dataframe thead th {\n",
       "        text-align: right;\n",
       "    }\n",
       "</style>\n",
       "<table border=\"1\" class=\"dataframe\">\n",
       "  <thead>\n",
       "    <tr style=\"text-align: right;\">\n",
       "      <th></th>\n",
       "      <th>CountVectorizer+Lematización+StopWords+Emoticons</th>\n",
       "      <th>CountVectorizer+Lematización</th>\n",
       "      <th>CountVectorizer+StopWords</th>\n",
       "      <th>CountVectorizer</th>\n",
       "    </tr>\n",
       "  </thead>\n",
       "  <tbody>\n",
       "    <tr>\n",
       "      <th>0</th>\n",
       "      <td>0.76221</td>\n",
       "      <td>0.764073</td>\n",
       "      <td>0.639901</td>\n",
       "      <td>0.689983</td>\n",
       "    </tr>\n",
       "  </tbody>\n",
       "</table>\n",
       "</div>"
      ],
      "text/plain": [
       "   CountVectorizer+Lematización+StopWords+Emoticons  \\\n",
       "0                                           0.76221   \n",
       "\n",
       "   CountVectorizer+Lematización  CountVectorizer+StopWords  CountVectorizer  \n",
       "0                      0.764073                   0.639901         0.689983  "
      ]
     },
     "metadata": {},
     "output_type": "display_data"
    },
    {
     "data": {
      "image/png": "[encoded data removed]",
      "text/plain": [
       "<Figure size 1440x576 with 1 Axes>"
      ]
     },
     "metadata": {},
     "output_type": "display_data"
    }
   ],
   "source": [
    "bar_data = pd.DataFrame(dict_score, index=[0])\n",
    "\n",
    "display(bar_data)\n",
    "\n",
    "plt.style.use('fivethirtyeight')\n",
    "plt.bar(x=bar_data.columns, height=bar_data.values[0])\n",
    "\n",
    "plt.xlabel('metodo')\n",
    "plt.ylabel('accuracy');\n",
    "# plt.xticks(rotation=45);"
   ]
  },
  {
   "attachments": {},
   "cell_type": "markdown",
   "metadata": {},
   "source": [
    "Como se muestra en las gráficas, los mejores modelos para este dataset fueron los que usaron lematización. A pesar de que el modelo que es countvectorizer+lematización el que mejor se comportó, el modelo que tiene countvectorizer+lematización+stopwords es el mas estable en la validación cruzada, como se observa en los diagramas de caja. En todos los casos se hizo conteo de tokens por trigramas, pero los modelos que incluyeron el paso de lematización obtuvieron los mejores puntajes de precisión de la clasificación. Como se discutió antes, la lematización le da mayor valor a la data debido a que homogeniza las palabras de los tweets y les da más significancia respecto a la variable objetivo. Lematizar es buena práctica para este tipo de análisis pues nos otorga data más fácil de analizar. A pesar de que es un método computacionalmente más complejo que el stemming y que la eliminación de stop-words, en casos como el de este taller esto no es una desventaja, pues tenemos un número de datos no demasiado grande. \n",
    "\n",
    "Por otro lado, se puede ver que el desempeño del modelo no mejoró significativamente usando la combinación de los métodos de preprocesamiento. Esto puede ser debido a que el dataset que se tiene está compuesto de trinos, que tienen un límite de caracteres. Si alguien quiere quejarse de una aerolínea públicamente, no usará lenguaje formal y frases completas, sino que puede ser suficiente con trinar algo como \"@united sucks\". A este tweet no se le pueden eliminar stop-words, ya que no tiene. Esto significa que eliminar stop-words de los tweets no le aporta tanto valor a la data como la lematización.\n",
    "\n",
    "Respecto al modelo con peor desempeño, este fue el método de eliminación de stop-words únicamente. Aunque es cierto que los token se vuelven más significativos al eliminar las palabras comunes que las dos categorías tienen en común, se considera, como se dijo antes, que los tweets tienen una baja incidencia de stop-words. También se considera posible que eliminar stop-words únicamente cause que haya muchos trigramas singulares en el dataset, de modo que se vuelve más difícil la clasificación de los tweets. Por ejemplo un tweet como \"@united keeps playing us and I'm so over it\" se convierte en \"keeps playing over\", que es un tweet con palabra difícilmente asociables a la negatividad y, además, que puede que se repitan muy poco a lo largo del dataset. La lematización pondría este tweet al mismo nivel de significancia que todos los que contienen \"keep\" y \"play\", de modo que aumenta la probabilidad de una mejor clasificación, incluso a pesar de que no se asocien fácilmente a sentimientos negativos. "
   ]
  }
 ],
 "metadata": {
  "kernelspec": {
   "display_name": "Python 3",
   "language": "python",
   "name": "python3"
  },
  "language_info": {
   "codemirror_mode": {
    "name": "ipython",
    "version": 3
   },
   "file_extension": ".py",
   "mimetype": "text/x-python",
   "name": "python",
   "nbconvert_exporter": "python",
   "pygments_lexer": "ipython3",
   "version": "3.9.11"
  }
 },
 "nbformat": 4,
 "nbformat_minor": 2
}
